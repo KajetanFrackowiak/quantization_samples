{
 "cells": [
  {
   "cell_type": "markdown",
   "metadata": {},
   "source": [
    "## Simple tensor with random items"
   ]
  },
  {
   "cell_type": "code",
   "execution_count": 2,
   "metadata": {},
   "outputs": [
    {
     "name": "stdout",
     "output_type": "stream",
     "text": [
      "[142.52 -44.56   0.   -28.02 -28.41 124.52  30.04  17.55 113.82 -43.56\n",
      " 123.82 111.96  70.22 141.52  82.62 -37.24  52.53  15.24 111.85 -13.85]\n"
     ]
    }
   ],
   "source": [
    "import numpy as np\n",
    "\n",
    "# Scientific notation\n",
    "np.set_printoptions(suppress=True)\n",
    "\n",
    "params = np.random.uniform(low=-50, high=150, size=20)\n",
    "\n",
    "params[0] = params.max() + 1\n",
    "params[1] = params.min() - 1\n",
    "params[2] = 0\n",
    "\n",
    "params = np.round(params, 2)\n",
    "\n",
    "print(params)"
   ]
  },
  {
   "cell_type": "markdown",
   "metadata": {},
   "source": [
    "## Quantization methods and quantize"
   ]
  },
  {
   "cell_type": "code",
   "execution_count": 8,
   "metadata": {},
   "outputs": [
    {
     "name": "stdout",
     "output_type": "stream",
     "text": [
      "Original:\n",
      "[142.52 -44.56   0.   -28.02 -28.41 124.52  30.04  17.55 113.82 -43.56\n",
      " 123.82 111.96  70.22 141.52  82.62 -37.24  52.53  15.24 111.85 -13.85]\n",
      "\n",
      "Asymetric scale; 0.7336470588235294, zero: 61.0\n",
      "[255   0  61  23  22 231 102  85 216   2 230 214 157 254 174  10 133  82\n",
      " 213  42]\n",
      "\n",
      "Symetric_scale: 1.1222047244094489\n",
      "[127 -40   0 -25 -25 111  27  16 101 -39 110 100  63 126  74 -33  47  14\n",
      " 100 -12]\n"
     ]
    }
   ],
   "source": [
    "def clamp(params_q: np.array, lower_bound: int, upper_bound: int) -> np.array:\n",
    "    params_q[params_q < lower_bound] = lower_bound\n",
    "    params_q[params_q > upper_bound] = upper_bound\n",
    "    return params_q\n",
    "\n",
    "def asymmetric_quantization(params: np.array, bits: int) -> tuple[np.array, float, int]:\n",
    "    # scale and zero point\n",
    "    alpha = np.max(params)\n",
    "    beta = np.min(params)\n",
    "    scale = (alpha - beta) / (2**bits - 1)\n",
    "    zero = -1 * np.round(beta / scale)\n",
    "    lower_bound, upper_bound = 0, 2**bits - 1\n",
    "    # Quantize the paramaters\n",
    "    quantized = clamp(np.round(params / scale + zero), lower_bound, upper_bound).astype(np.int32)\n",
    "    return quantized, scale, zero\n",
    "\n",
    "def asymmetric_dequantize(params_q: np.array, scale: float, zero: int) -> np.array:\n",
    "    return (params_q - zero) * scale\n",
    "\n",
    "def symmetric_dequantize(params_q: np.array, scale: float) -> np.array:\n",
    "    return params_q * scale\n",
    "\n",
    "def symmetric_quantization(params: np.array, bits: int) -> tuple[np.array, float]:\n",
    "    # Calculate the scale\n",
    "    alpha = np.max(np.abs(params))\n",
    "    scale = alpha / (2**(bits-1)-1)\n",
    "    lower_bound = -2**(bits-1)\n",
    "    upper_bound = 2**(bits-1)-1\n",
    "    # Quantize the parameters\n",
    "    quantized = clamp(np.round(params / scale), lower_bound, upper_bound).astype(np.int32)\n",
    "    return quantized, scale\n",
    "\n",
    "def quantization_error(params: np.array, params_q: np.array):\n",
    "    # Calculate the MSE\n",
    "    return np.mean((params - params_q) ** 2)\n",
    "\n",
    "(asymetric_q, asymetric_scale, asymetric_zero) = asymmetric_quantization(params, 8)\n",
    "(symetric_q, symetric_scale) = symmetric_quantization(params, 8)\n",
    "\n",
    "print(\"Original:\")\n",
    "print(np.round(params, 2))\n",
    "print('')\n",
    "print(f\"Asymetric scale; {asymetric_scale}, zero: {asymetric_zero}\")\n",
    "print(asymetric_q)\n",
    "print('')\n",
    "print(f\"Symetric_scale: {symetric_scale}\")\n",
    "print(symetric_q)"
   ]
  },
  {
   "cell_type": "code",
   "execution_count": 9,
   "metadata": {},
   "outputs": [
    {
     "name": "stdout",
     "output_type": "stream",
     "text": [
      "Original:\n",
      "[142.52 -44.56   0.   -28.02 -28.41 124.52  30.04  17.55 113.82 -43.56\n",
      " 123.82 111.96  70.22 141.52  82.62 -37.24  52.53  15.24 111.85 -13.85]\n",
      "\n",
      "Dequantize Asymetric:\n",
      "[142. -45.   0. -28. -29. 125.  30.  18. 114. -43. 124. 112.  70. 142.\n",
      "  83. -37.  53.  15. 112. -14.]\n",
      "\n",
      "Dequantize Symetric:\n",
      "[142.52 -44.89   0.   -28.06 -28.06 124.56  30.3   17.96 113.34 -43.77\n",
      " 123.44 112.22  70.7  141.4   83.04 -37.03  52.74  15.71 112.22 -13.47]\n"
     ]
    }
   ],
   "source": [
    "# Dequantize the parameters back to 32 bits\n",
    "params_deq_asymetric = asymmetric_dequantize(asymetric_q, asymetric_scale, asymetric_zero)\n",
    "params_deq_symetric = symmetric_dequantize(symetric_q, symetric_scale)\n",
    "\n",
    "print(\"Original:\")\n",
    "print(np.round(params, 2))\n",
    "print('')\n",
    "print(\"Dequantize Asymetric:\")\n",
    "print(np.round(params_deq_asymetric))\n",
    "print('')\n",
    "print(\"Dequantize Symetric:\")\n",
    "print(np.round(params_deq_symetric, 2))"
   ]
  },
  {
   "cell_type": "code",
   "execution_count": 10,
   "metadata": {},
   "outputs": [
    {
     "name": "stdout",
     "output_type": "stream",
     "text": [
      "  Asymmetric error: 0.04\n",
      "   Symmetric error: 0.1\n"
     ]
    }
   ],
   "source": [
    "# Quantization error\n",
    "print(f'{\"Asymmetric error: \":>20}{np.round(quantization_error(params, params_deq_asymetric), 2)}')\n",
    "print(f'{\"Symmetric error: \":>20}{np.round(quantization_error(params, params_deq_symetric), 2)}')"
   ]
  },
  {
   "cell_type": "code",
   "execution_count": null,
   "metadata": {},
   "outputs": [],
   "source": []
  }
 ],
 "metadata": {
  "kernelspec": {
   "display_name": "base",
   "language": "python",
   "name": "python3"
  },
  "language_info": {
   "codemirror_mode": {
    "name": "ipython",
    "version": 3
   },
   "file_extension": ".py",
   "mimetype": "text/x-python",
   "name": "python",
   "nbconvert_exporter": "python",
   "pygments_lexer": "ipython3",
   "version": "3.11.7"
  }
 },
 "nbformat": 4,
 "nbformat_minor": 2
}
